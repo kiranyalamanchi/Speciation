{
 "cells": [
  {
   "cell_type": "code",
   "execution_count": 1,
   "metadata": {},
   "outputs": [],
   "source": [
    "import pandas as pd\n",
    "import numpy as np\n",
    "import array \n",
    "import matplotlib.pyplot as plt\n",
    "from sklearn.metrics import r2_score, mean_absolute_error, mean_squared_error\n",
    "%matplotlib inline\n",
    "pd.options.mode.chained_assignment = None"
   ]
  },
  {
   "cell_type": "code",
   "execution_count": 2,
   "metadata": {},
   "outputs": [],
   "source": [
    "# Root directory of the project\n",
    "root = r\"C:\\Users\\LENOVO\\Documents\\Fuels\""
   ]
  },
  {
   "cell_type": "code",
   "execution_count": 3,
   "metadata": {},
   "outputs": [],
   "source": [
    "# Get data from the corresponding files\n",
    "def get_data(species,target,algorithm):\n",
    "    dataset = []\n",
    "    for line in open(root+\"\\\\results\\\\\"+ algorithm +\"\\\\\" + algorithm +\"-\"+species+'-'+ target +\".csv\"):   \n",
    "        csv_read_line = []\n",
    "        csv_row = line.split()\n",
    "        csv_row = np.asarray(csv_row)\n",
    "        csv_row = csv_row.reshape(csv_row.size,)\n",
    "        line = line.strip()\n",
    "        line = line[:len(line)].split(\",\")\n",
    "        for item in line:\n",
    "            item = float(item)\n",
    "            csv_read_line.append(item)\n",
    "        dataset.append(csv_read_line)\n",
    "    return dataset"
   ]
  },
  {
   "cell_type": "code",
   "execution_count": 4,
   "metadata": {},
   "outputs": [
    {
     "name": "stderr",
     "output_type": "stream",
     "text": [
      "C:\\Users\\LENOVO\\Anaconda3\\lib\\site-packages\\ipykernel_launcher.py:32: RuntimeWarning: divide by zero encountered in true_divide\n"
     ]
    }
   ],
   "source": [
    "# Initialize the new array\n",
    "csv_write_line = []\n",
    "\n",
    "# Loop through each Algorithm\n",
    "for algorithm in ['ANN','SVR','RFR','Polynomial_1','Polynomial_2','Polynomial_3']:\n",
    "    predictions = np.array([])\n",
    "    actuals = np.array([])\n",
    "    \n",
    "    # Loop through each mixture\n",
    "    for species in ['PRF 64.5', 'FGA', 'FGC', 'FGF', 'FGG', 'FGI', 'FGJ', 'PRF 50', 'PRF 95', 'PRF 70', 'PRF 84', 'PRF 91.5']:\n",
    "        \n",
    "        # Loop through each of the emissions\n",
    "        for target in ['CO2','C2H4','C3H6','CO','H2','CH4']:  \n",
    "            \n",
    "            # Get the dataset from the corresponding files\n",
    "            dataset=get_data(species,target,algorithm)\n",
    "            \n",
    "            # Process the dataset\n",
    "            p = dataset[0]\n",
    "            a = dataset[1]\n",
    "            p = np.array(p)\n",
    "            a = np.array(a)\n",
    "            predictions = np.append(predictions,p)\n",
    "            actuals = np.append(actuals,a)\n",
    "            \n",
    "    # Calculate the various errors between the actual and predicted    \n",
    "    diff = actuals - predictions\n",
    "    r2 = r2_score(actuals, predictions)\n",
    "    error_ma = [algorithm , \"error_ma\" , mean_absolute_error(actuals, predictions)]\n",
    "    error_ms = [algorithm , \"error_ms\" , mean_squared_error(actuals, predictions)]\n",
    "    error_rms = [algorithm , \"error_rms\" , np.sqrt(np.mean(np.square(diff)))]\n",
    "    error_mp = [algorithm , \"error_mp\" , np.mean(abs(np.divide(diff, actuals))) * 100]\n",
    "    error_max = [algorithm , \"error_max\" , np.amax(np.absolute(diff))]\n",
    "    error_r2 = [algorithm , \"r_2\", r2]\n",
    "    \n",
    "    # Append the Errors into an array\n",
    "    csv_write_line.append(error_ma)\n",
    "    csv_write_line.append(error_ms)\n",
    "    csv_write_line.append(error_rms)\n",
    "    csv_write_line.append(error_mp)\n",
    "    csv_write_line.append(error_max)\n",
    "    csv_write_line.append(error_r2)\n",
    "    \n",
    "# Add the lines to the csv file\n",
    "csv_file = open( root + \"\\\\inferene\\inferene.csv\",'w')\n",
    "np.savetxt(csv_file, csv_write_line, fmt='%s', delimiter=\",\")\n",
    "csv_file.close()"
   ]
  },
  {
   "cell_type": "code",
   "execution_count": null,
   "metadata": {},
   "outputs": [],
   "source": []
  }
 ],
 "metadata": {
  "kernelspec": {
   "display_name": "Python 3",
   "language": "python",
   "name": "python3"
  },
  "language_info": {
   "codemirror_mode": {
    "name": "ipython",
    "version": 3
   },
   "file_extension": ".py",
   "mimetype": "text/x-python",
   "name": "python",
   "nbconvert_exporter": "python",
   "pygments_lexer": "ipython3",
   "version": "3.7.0"
  }
 },
 "nbformat": 4,
 "nbformat_minor": 2
}
