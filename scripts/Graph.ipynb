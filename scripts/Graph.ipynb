{
 "cells": [
  {
   "cell_type": "code",
   "execution_count": null,
   "metadata": {},
   "outputs": [],
   "source": [
    "import pandas as pd\n",
    "import numpy as np\n",
    "import array \n",
    "import matplotlib.pyplot as plt"
   ]
  },
  {
   "cell_type": "code",
   "execution_count": null,
   "metadata": {},
   "outputs": [],
   "source": [
    "#Root directory of the project\n",
    "root = r\"C:\\Users\\sarankr\\Desktop\\Fuels\""
   ]
  },
  {
   "cell_type": "code",
   "execution_count": null,
   "metadata": {},
   "outputs": [],
   "source": [
    "# Loop through each of the mixture\n",
    "for species in ['PRF 64.5', 'FGA', 'FGC', 'FGF', 'FGG', 'FGI', 'FGJ', 'PRF 50', 'PRF 95', 'PRF 70', 'PRF 84', 'PRF 91.5']:\n",
    "    \n",
    "    # Loop through each of the emissions\n",
    "    for target in ['CO2','C2H4','C3H6','CO','H2','CH4']:  \n",
    "        \n",
    "        # Loop through each of the Algorithms\n",
    "        for algorithm in ['SVR','RFR','Polynomial_1','Polynomial_2','Polynomial_3']:\n",
    "            dataset = []\n",
    "            \n",
    "            # Read each file, and get the predictions and the actuals\n",
    "            for line in open(root+\"\\\\results\\\\\"+ algorithm +\"\\\\\" + algorithm +\"-\"+species+'-'+ target +\".csv\"):   \n",
    "                arr = []\n",
    "                csv_row = line.split()\n",
    "                csv_row = np.asarray(csv_row)\n",
    "                csv_row = csv_row.reshape(csv_row.size,)\n",
    "                line = line.strip()\n",
    "                line = line[:len(line)].split(\",\")\n",
    "                for item in line:\n",
    "                    item = float(item)\n",
    "                    arr.append(item)\n",
    "                dataset.append(arr)\n",
    "            predictions = dataset[0]\n",
    "            actuals = dataset[1]\n",
    "\n",
    "            # Get the size, for the x-axis\n",
    "            size = []\n",
    "            for i in range(len(actuals)):\n",
    "                size.append(i+1)\n",
    "                \n",
    "            # Plot the graph and save it\n",
    "            plt.scatter(size,predictions,color='red',label = 'Predictions')\n",
    "            plt.scatter(size,actuals,color='blue',label='Actuals')  \n",
    "            plt.title(algorithm + \"-\"+ species +\"-\"+ target)\n",
    "            plt.legend(loc='upper center', bbox_to_anchor=(0.5, -0.05), shadow=True, ncol=2)\n",
    "            plt.ylim(min(min(predictions),min(actuals))-0.0005, max(max(predictions),max(actuals))+0.0005)\n",
    "            plt.savefig(root + algorithm + species +\"-\"+ targets.name +'.png')\n",
    "            plt.show()"
   ]
  },
  {
   "cell_type": "code",
   "execution_count": null,
   "metadata": {},
   "outputs": [],
   "source": []
  }
 ],
 "metadata": {
  "kernelspec": {
   "display_name": "Python 3",
   "language": "python",
   "name": "python3"
  },
  "language_info": {
   "codemirror_mode": {
    "name": "ipython",
    "version": 3
   },
   "file_extension": ".py",
   "mimetype": "text/x-python",
   "name": "python",
   "nbconvert_exporter": "python",
   "pygments_lexer": "ipython3",
   "version": "3.7.0"
  }
 },
 "nbformat": 4,
 "nbformat_minor": 2
}
